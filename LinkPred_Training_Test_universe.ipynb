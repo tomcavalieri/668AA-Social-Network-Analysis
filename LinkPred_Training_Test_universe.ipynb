{
 "cells": [
  {
   "cell_type": "code",
   "execution_count": 3,
   "metadata": {},
   "outputs": [],
   "source": [
    "%matplotlib inline\n",
    "import matplotlib.pyplot as plt\n",
    "import linkpred\n",
    "import networkx as nx\n",
    "import pickle\n",
    "import random\n",
    "import itertools\n",
    "from linkpred.evaluation import Pair"
   ]
  },
  {
   "cell_type": "code",
   "execution_count": 4,
   "metadata": {},
   "outputs": [],
   "source": [
    "with open('Comp_conn.pickle', 'rb') as f:\n",
    "    g = pickle.load(f)"
   ]
  },
  {
   "cell_type": "code",
   "execution_count": 5,
   "metadata": {},
   "outputs": [
    {
     "name": "stdout",
     "output_type": "stream",
     "text": [
      "Number of Nodes:  12693\n",
      "Number of Edged:  41467\n"
     ]
    }
   ],
   "source": [
    "NNODES = g.number_of_nodes()\n",
    "NNODES\n",
    "\n",
    "NEDGES = g.number_of_edges()\n",
    "NEDGES\n",
    "\n",
    "print(\"Number of Nodes: \", NNODES)\n",
    "print(\"Number of Edged: \", NEDGES)"
   ]
  },
  {
   "cell_type": "code",
   "execution_count": 13,
   "metadata": {},
   "outputs": [
    {
     "name": "stdout",
     "output_type": "stream",
     "text": [
      "60\n",
      "2\n"
     ]
    }
   ],
   "source": [
    "H=g.subgraph(random.sample(g.nodes(), 1000))\n",
    "\n",
    "# Create test network\n",
    "test = H.subgraph(random.sample(H.nodes(), 200))\n",
    "print(len(test.nodes()))\n",
    "print(len(test.edges()))\n",
    "\n",
    "# Exclude test network from learning phase\n",
    "training = H.copy()\n",
    "training.remove_edges_from(test.edges())\n",
    "\n",
    "# Node set\n",
    "nodes = list(H.nodes())\n",
    "nodes.extend(list(test.nodes()))\n",
    "\n",
    "# Compute the test set and the universe set\n",
    "test = [Pair(i) for i in test.edges()]\n",
    "universe = set([Pair(i) for i in itertools.product(nodes, nodes) if i[0]!=i[1]])"
   ]
  },
  {
   "cell_type": "code",
   "execution_count": 29,
   "metadata": {},
   "outputs": [
    {
     "data": {
      "text/plain": [
       "44850"
      ]
     },
     "execution_count": 29,
     "metadata": {},
     "output_type": "execute_result"
    }
   ],
   "source": [
    "len(universe)"
   ]
  },
  {
   "cell_type": "code",
   "execution_count": 14,
   "metadata": {},
   "outputs": [
    {
     "name": "stdout",
     "output_type": "stream",
     "text": [
      "300\n",
      "27\n"
     ]
    }
   ],
   "source": [
    "print(len(H.nodes()))\n",
    "print(len(H.edges()))"
   ]
  },
  {
   "cell_type": "code",
   "execution_count": 15,
   "metadata": {},
   "outputs": [
    {
     "data": {
      "text/plain": [
       "300"
      ]
     },
     "execution_count": 15,
     "metadata": {},
     "output_type": "execute_result"
    }
   ],
   "source": [
    "len(training.nodes())"
   ]
  },
  {
   "cell_type": "code",
   "execution_count": 16,
   "metadata": {},
   "outputs": [
    {
     "data": {
      "text/plain": [
       "25"
      ]
     },
     "execution_count": 16,
     "metadata": {},
     "output_type": "execute_result"
    }
   ],
   "source": [
    "len(training.edges())"
   ]
  },
  {
   "cell_type": "code",
   "execution_count": 17,
   "metadata": {},
   "outputs": [
    {
     "data": {
      "text/plain": [
       "2"
      ]
     },
     "execution_count": 17,
     "metadata": {},
     "output_type": "execute_result"
    }
   ],
   "source": [
    "len(test)"
   ]
  },
  {
   "cell_type": "code",
   "execution_count": 49,
   "metadata": {},
   "outputs": [],
   "source": [
    "import pickle\n",
    "with open('universe1000.pickle', 'wb') as f:\n",
    "    pickle.dump(universe, f)"
   ]
  },
  {
   "cell_type": "code",
   "execution_count": 50,
   "metadata": {},
   "outputs": [],
   "source": [
    "import pickle\n",
    "with open('Training1000.pickle', 'wb') as f:\n",
    "    pickle.dump(training, f)\n",
    "    \n",
    "import pickle\n",
    "with open('Test1000.pickle', 'wb') as f:\n",
    "    pickle.dump(test, f)"
   ]
  }
 ],
 "metadata": {
  "kernelspec": {
   "display_name": "Python 3",
   "language": "python",
   "name": "python3"
  },
  "language_info": {
   "codemirror_mode": {
    "name": "ipython",
    "version": 3
   },
   "file_extension": ".py",
   "mimetype": "text/x-python",
   "name": "python",
   "nbconvert_exporter": "python",
   "pygments_lexer": "ipython3",
   "version": "3.7.3"
  }
 },
 "nbformat": 4,
 "nbformat_minor": 2
}
