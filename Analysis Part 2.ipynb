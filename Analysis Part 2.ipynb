{
 "cells": [
  {
   "cell_type": "code",
   "execution_count": 1,
   "metadata": {},
   "outputs": [],
   "source": [
    "import numpy as np\n",
    "import pandas as pd\n",
    "import difflib\n",
    "import json\n",
    "\n",
    "import networkx as nx\n",
    "import warnings\n",
    "import matplotlib.pyplot as plt\n",
    "import powerlaw\n",
    "warnings.filterwarnings('ignore')\n",
    "\n",
    "import matplotlib.pyplot as plt"
   ]
  },
  {
   "cell_type": "code",
   "execution_count": 5,
   "metadata": {},
   "outputs": [],
   "source": [
    "G = nx.read_edgelist('/Users/Cava/Downloads/Network_finale_12_07.csv', data=(('weight',int),('industry',int)), delimiter=\",\")"
   ]
  },
  {
   "cell_type": "code",
   "execution_count": 6,
   "metadata": {},
   "outputs": [
    {
     "name": "stdout",
     "output_type": "stream",
     "text": [
      "Number of Nodes:  14875\n",
      "Number of Edged:  43932\n",
      "LMAX:  110632812.0\n"
     ]
    }
   ],
   "source": [
    "NNODES = G.number_of_nodes()\n",
    "NNODES\n",
    "\n",
    "NEDGES = G.number_of_edges()\n",
    "NEDGES\n",
    "\n",
    "LMAX = (NNODES * NNODES - 1) / 2\n",
    "\n",
    "print(\"Number of Nodes: \", NNODES)\n",
    "print(\"Number of Edged: \", NEDGES)\n",
    "print(\"LMAX: \", LMAX)"
   ]
  },
  {
   "cell_type": "markdown",
   "metadata": {},
   "source": [
    "# Sintetic graphs"
   ]
  },
  {
   "cell_type": "markdown",
   "metadata": {},
   "source": [
    "### Erdos-Renyi (random) graphs\n",
    "\n",
    "- n (int) – The number of nodes.\n",
    "- p (float) – Probability for edge creation."
   ]
  },
  {
   "cell_type": "code",
   "execution_count": null,
   "metadata": {},
   "outputs": [],
   "source": [
    "# network generators 1 (random graphs)\n",
    "er = nx.erdos_renyi_graph(NNODES, p=0.00039, directed = False, seed = 42) "
   ]
  },
  {
   "cell_type": "code",
   "execution_count": null,
   "metadata": {},
   "outputs": [],
   "source": [
    "er.number_of_edges()"
   ]
  },
  {
   "cell_type": "markdown",
   "metadata": {},
   "source": [
    "### Watts-Strogatz (small world) graphs\n",
    "\n",
    "- n (int) – The number of nodes\n",
    "- k (int) – Each node is joined with its k nearest neighbors in a ring topology.\n",
    "- p (float) – The probability of rewiring each edge"
   ]
  },
  {
   "cell_type": "code",
   "execution_count": null,
   "metadata": {},
   "outputs": [],
   "source": [
    "# network generators 2 (small-world)\n",
    "ws = nx.watts_strogatz_graph(NNODES, k=6, p=0.1, seed = 42)"
   ]
  },
  {
   "cell_type": "code",
   "execution_count": null,
   "metadata": {},
   "outputs": [],
   "source": [
    "ws.number_of_edges()"
   ]
  },
  {
   "cell_type": "markdown",
   "metadata": {},
   "source": [
    "### Barabasi-Albert (scale-free) graphs\n",
    "\n",
    "- n (int) – Number of nodes\n",
    "- m (int) – Number of edges to attach from a new node to existing nodes"
   ]
  },
  {
   "cell_type": "code",
   "execution_count": null,
   "metadata": {},
   "outputs": [],
   "source": [
    "# network generators 3 (preferential attachment)\n",
    "ba = nx.barabasi_albert_graph(NNODES, m=3, seed = 42)"
   ]
  },
  {
   "cell_type": "code",
   "execution_count": null,
   "metadata": {},
   "outputs": [],
   "source": [
    "ba.number_of_edges()"
   ]
  },
  {
   "cell_type": "markdown",
   "metadata": {},
   "source": [
    "### Configuration model"
   ]
  },
  {
   "cell_type": "code",
   "execution_count": null,
   "metadata": {},
   "outputs": [],
   "source": [
    "# fitting the degree distribution of the previous BA example\n",
    "sequence = [i[1] for i in ba.degree()]\n",
    "\n",
    "cm = nx.configuration_model(sequence)"
   ]
  },
  {
   "cell_type": "code",
   "execution_count": 12,
   "metadata": {},
   "outputs": [
    {
     "data": {
      "text/plain": [
       "44616"
      ]
     },
     "execution_count": 12,
     "metadata": {},
     "output_type": "execute_result"
    }
   ],
   "source": [
    "cm.number_of_edges()"
   ]
  },
  {
   "cell_type": "markdown",
   "metadata": {},
   "source": [
    "# Path analysis"
   ]
  },
  {
   "cell_type": "code",
   "execution_count": 13,
   "metadata": {},
   "outputs": [
    {
     "name": "stdout",
     "output_type": "stream",
     "text": [
      "Number of Connected Components (G):  717\n",
      "Diameter (G) : 11\n",
      "Average shortest path (G): 3.9784086679916113\n",
      "Average shortest path weighted (G): 9.078180252712801\n"
     ]
    }
   ],
   "source": [
    "comps = list(nx.connected_components(G))\n",
    "print(\"Number of Connected Components (G): \", len(comps))\n",
    "\n",
    "print(\"Diameter (G) :\", nx.diameter(G.subgraph(comps[0])))\n",
    "print(\"Average shortest path (G):\", nx.average_shortest_path_length(G.subgraph(comps[0])))\n",
    "print(\"Average shortest path weighted (G):\", nx.average_shortest_path_length(G.subgraph(comps[0]), weight='weight'))"
   ]
  },
  {
   "cell_type": "code",
   "execution_count": 14,
   "metadata": {},
   "outputs": [
    {
     "name": "stdout",
     "output_type": "stream",
     "text": [
      "Number of Connected Components (ER):  56\n",
      "Diameter (ER) : 11\n",
      "Average shortest path (ER): 5.674166680791608\n"
     ]
    }
   ],
   "source": [
    "comps = list(nx.connected_components(er))\n",
    "print(\"Number of Connected Components (ER): \", len(comps))\n",
    "\n",
    "print(\"Diameter (ER) :\", nx.diameter(er.subgraph(comps[0])))\n",
    "print(\"Average shortest path (ER):\", nx.average_shortest_path_length(er.subgraph(comps[0])))"
   ]
  },
  {
   "cell_type": "code",
   "execution_count": 17,
   "metadata": {},
   "outputs": [
    {
     "name": "stdout",
     "output_type": "stream",
     "text": [
      "Number of Connected Components (WS):  1\n",
      "Diameter (WS) : 16\n",
      "Average shortest path (WS): 9.036218137113659\n"
     ]
    }
   ],
   "source": [
    "comps = list(nx.connected_components(ws))\n",
    "print(\"Number of Connected Components (WS): \", len(comps))\n",
    "\n",
    "print(\"Diameter (WS) :\", nx.diameter(ws.subgraph(comps[0])))\n",
    "print(\"Average shortest path (WS):\", nx.average_shortest_path_length(ws.subgraph(comps[0])))"
   ]
  },
  {
   "cell_type": "code",
   "execution_count": 16,
   "metadata": {},
   "outputs": [
    {
     "name": "stdout",
     "output_type": "stream",
     "text": [
      "Number of Connected Components (BA):  1\n",
      "Diameter (BA) : 7\n",
      "Average shortest path (BA): 4.410872776702452\n"
     ]
    }
   ],
   "source": [
    "comps = list(nx.connected_components(ba))\n",
    "print(\"Number of Connected Components (BA): \", len(comps))\n",
    "        \n",
    "print(\"Diameter (BA) :\", nx.diameter(ba.subgraph(comps[0])))\n",
    "print(\"Average shortest path (BA):\", nx.average_shortest_path_length(ba.subgraph(comps[0])))"
   ]
  },
  {
   "cell_type": "code",
   "execution_count": 17,
   "metadata": {},
   "outputs": [
    {
     "name": "stdout",
     "output_type": "stream",
     "text": [
      "Number of Connected Components (CM):  1\n",
      "Diameter (CM) : 7\n",
      "Average shortest path (CM): 4.410872776702452\n"
     ]
    }
   ],
   "source": [
    "comps = list(nx.connected_components(cm))\n",
    "print(\"Number of Connected Components (CM): \", len(comps))\n",
    "\n",
    "print(\"Diameter (CM) :\", nx.diameter(ba.subgraph(comps[0])))\n",
    "print(\"Average shortest path (CM):\", nx.average_shortest_path_length(ba.subgraph(comps[0])))"
   ]
  },
  {
   "cell_type": "markdown",
   "metadata": {},
   "source": [
    "# Clustering coefficient, Density Analysis"
   ]
  },
  {
   "cell_type": "code",
   "execution_count": 18,
   "metadata": {},
   "outputs": [
    {
     "name": "stdout",
     "output_type": "stream",
     "text": [
      "Average clustering (G) : 0.597037984278386\n",
      "Density (G) : 0.00039712407754549986\n"
     ]
    }
   ],
   "source": [
    "print(\"Average clustering (G) :\", nx.average_clustering(G))\n",
    "print(\"Density (G) :\", nx.density(G))"
   ]
  },
  {
   "cell_type": "code",
   "execution_count": 19,
   "metadata": {},
   "outputs": [
    {
     "name": "stdout",
     "output_type": "stream",
     "text": [
      "Average clustering (ER) : 0.0003334700780078929\n",
      "Density (ER) : 0.00038820207389127497\n"
     ]
    }
   ],
   "source": [
    "print(\"Average clustering (ER) :\", nx.average_clustering(er))\n",
    "print(\"Density (ER) :\", nx.density(er))"
   ]
  },
  {
   "cell_type": "code",
   "execution_count": 16,
   "metadata": {},
   "outputs": [
    {
     "name": "stdout",
     "output_type": "stream",
     "text": [
      "Average clustering (WS) : 0.4425117780445636\n",
      "Density (WS) : 0.0004033884630899556\n"
     ]
    }
   ],
   "source": [
    "print(\"Average clustering (WS) :\", nx.average_clustering(ws))\n",
    "print(\"Density (WS) :\", nx.density(ws))"
   ]
  },
  {
   "cell_type": "code",
   "execution_count": 21,
   "metadata": {},
   "outputs": [
    {
     "name": "stdout",
     "output_type": "stream",
     "text": [
      "Average clustering (BA) : 0.003913165465895828\n",
      "Density (BA) : 0.0004033071074335341\n"
     ]
    }
   ],
   "source": [
    "print(\"Average clustering (BA) :\", nx.average_clustering(ba))\n",
    "print(\"Density (BA) :\", nx.density(ba))"
   ]
  },
  {
   "cell_type": "code",
   "execution_count": 22,
   "metadata": {},
   "outputs": [
    {
     "name": "stdout",
     "output_type": "stream",
     "text": [
      "Density (CM) : 0.0004033071074335341\n"
     ]
    }
   ],
   "source": [
    " 1.1e+02# print(\"Average clustering (CM) :\", nx.average_clustering(cm)) \n",
    "# Non si può calcolare l'avarage clustering per il cm perchè è un multigrafo (la funzione restituisce sempre un multigrafo)\n",
    "\n",
    "print(\"Density (CM) :\", nx.density(cm))"
   ]
  },
  {
   "cell_type": "code",
   "execution_count": 23,
   "metadata": {},
   "outputs": [
    {
     "data": {
      "image/png": "[encoded data removed]",
      "text/plain": [
       "<Figure size 1440x360 with 1 Axes>"
      ]
     },
     "metadata": {
      "needs_background": "light"
     },
     "output_type": "display_data"
    }
   ],
   "source": [
    "degrees = G.degree()\n",
    "\n",
    "y = []\n",
    "x = []\n",
    "\n",
    "for degree in degrees:\n",
    "    node = degree[0]\n",
    "    degree = degree[1]\n",
    "    local_clustering_coefficient = nx.clustering(G,node)\n",
    "    \n",
    "    y.append(local_clustering_coefficient)\n",
    "    x.append(degree)\n",
    "\n",
    "    \n",
    "plt.figure(figsize=(20,5))\n",
    "plt.scatter(x, y)\n",
    "\n",
    "plt.xlabel(\"k\")\n",
    "plt.ylabel(\"C(k)\")\n",
    "\n",
    "plt.show()"
   ]
  },
  {
   "cell_type": "code",
   "execution_count": null,
   "metadata": {},
   "outputs": [],
   "source": []
  }
 ],
 "metadata": {
  "kernelspec": {
   "display_name": "Python 3",
   "language": "python",
   "name": "python3"
  },
  "language_info": {
   "codemirror_mode": {
    "name": "ipython",
    "version": 3
   },
   "file_extension": ".py",
   "mimetype": "text/x-python",
   "name": "python",
   "nbconvert_exporter": "python",
   "pygments_lexer": "ipython3",
   "version": "3.7.6"
  }
 },
 "nbformat": 4,
 "nbformat_minor": 4
}
